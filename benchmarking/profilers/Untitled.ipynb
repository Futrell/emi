{
 "cells": [
  {
   "cell_type": "code",
   "execution_count": 2,
   "metadata": {
    "collapsed": true
   },
   "outputs": [],
   "source": [
    "import line_profiler"
   ]
  },
  {
   "cell_type": "code",
   "execution_count": 12,
   "metadata": {
    "collapsed": false
   },
   "outputs": [
    {
     "name": "stdout",
     "output_type": "stream",
     "text": [
      "CLineProfiler\n",
      "CO_GENERATOR\n",
      "LineProfiler\n",
      "LineProfilerMagics\n",
      "Magics\n",
      "PY3\n",
      "StringIO\n",
      "Struct\n",
      "UsageError\n",
      "__builtins__\n",
      "__cached__\n",
      "__doc__\n",
      "__file__\n",
      "__loader__\n",
      "__name__\n",
      "__package__\n",
      "__spec__\n",
      "__warningregistry__\n",
      "exec_\n",
      "functools\n",
      "inspect\n",
      "is_generator\n",
      "line_magic\n",
      "linecache\n",
      "load_ipython_extension\n",
      "load_stats\n",
      "magics_class\n",
      "main\n",
      "optparse\n",
      "os\n",
      "page\n",
      "pickle\n",
      "print_function\n",
      "show_func\n",
      "show_text\n",
      "sys\n"
     ]
    }
   ],
   "source": [
    "for i in dir(line_profiler):\n",
    "    print(i)"
   ]
  },
  {
   "cell_type": "code",
   "execution_count": 16,
   "metadata": {
    "collapsed": false
   },
   "outputs": [],
   "source": [
    "def add2( n ):\n",
    "    return n + 2"
   ]
  },
  {
   "cell_type": "code",
   "execution_count": 18,
   "metadata": {
    "collapsed": false
   },
   "outputs": [
    {
     "name": "stdout",
     "output_type": "stream",
     "text": [
      "<class 'line_profiler.LineProfiler'>\n"
     ]
    },
    {
     "name": "stderr",
     "output_type": "stream",
     "text": [
      "/home/aik/anaconda3/lib/python3.5/site-packages/ipykernel/__main__.py:1: UserWarning: Could not extract a code object for the object 6\n",
      "  if __name__ == '__main__':\n"
     ]
    }
   ],
   "source": [
    "lp_obj = line_profiler.LineProfiler( add2( 4 ) ) \n",
    "print(type(lp_obj))"
   ]
  },
  {
   "cell_type": "code",
   "execution_count": 9,
   "metadata": {
    "collapsed": false
   },
   "outputs": [
    {
     "name": "stdout",
     "output_type": "stream",
     "text": [
      "__call__\n",
      "__class__\n",
      "__delattr__\n",
      "__dict__\n",
      "__dir__\n",
      "__doc__\n",
      "__enter__\n",
      "__eq__\n",
      "__exit__\n",
      "__format__\n",
      "__ge__\n",
      "__getattribute__\n",
      "__gt__\n",
      "__hash__\n",
      "__init__\n",
      "__le__\n",
      "__lt__\n",
      "__module__\n",
      "__ne__\n",
      "__new__\n",
      "__reduce__\n",
      "__reduce_ex__\n",
      "__repr__\n",
      "__setattr__\n",
      "__sizeof__\n",
      "__str__\n",
      "__subclasshook__\n",
      "__weakref__\n",
      "add_function\n",
      "add_module\n",
      "code_map\n",
      "disable\n",
      "disable_by_count\n",
      "dump_stats\n",
      "enable\n",
      "enable_by_count\n",
      "enable_count\n",
      "functions\n",
      "get_stats\n",
      "last_time\n",
      "print_stats\n",
      "run\n",
      "runcall\n",
      "runctx\n",
      "timer_unit\n",
      "wrap_function\n",
      "wrap_generator\n"
     ]
    }
   ],
   "source": [
    "for i in dir(lp_obj):\n",
    "    print(i)"
   ]
  },
  {
   "cell_type": "code",
   "execution_count": 19,
   "metadata": {
    "collapsed": false
   },
   "outputs": [
    {
     "data": {
      "text/plain": [
       "<_line_profiler.LineStats at 0x7fc342fd6d30>"
      ]
     },
     "execution_count": 19,
     "metadata": {},
     "output_type": "execute_result"
    }
   ],
   "source": [
    "lp_obj.get_stats( )"
   ]
  },
  {
   "cell_type": "code",
   "execution_count": 20,
   "metadata": {
    "collapsed": true
   },
   "outputs": [],
   "source": [
    "from memory_profiler import profile"
   ]
  },
  {
   "cell_type": "code",
   "execution_count": 26,
   "metadata": {
    "collapsed": true
   },
   "outputs": [],
   "source": [
    "def add3(n):\n",
    "    return n + 3\n",
    "add3 = profile(add3)"
   ]
  },
  {
   "cell_type": "code",
   "execution_count": 27,
   "metadata": {
    "collapsed": false
   },
   "outputs": [
    {
     "name": "stdout",
     "output_type": "stream",
     "text": [
      "ERROR: Could not find file <ipython-input-26-2d95a41bbcd8>\n",
      "NOTE: %mprun can only be used on functions defined in physical files, and not in the IPython environment.\n",
      "6\n"
     ]
    }
   ],
   "source": [
    "print(add3(3))"
   ]
  },
  {
   "cell_type": "code",
   "execution_count": 25,
   "metadata": {
    "collapsed": false
   },
   "outputs": [
    {
     "name": "stdout",
     "output_type": "stream",
     "text": [
      "__annotations__\n",
      "__call__\n",
      "__class__\n",
      "__closure__\n",
      "__code__\n",
      "__defaults__\n",
      "__delattr__\n",
      "__dict__\n",
      "__dir__\n",
      "__doc__\n",
      "__eq__\n",
      "__format__\n",
      "__ge__\n",
      "__get__\n",
      "__getattribute__\n",
      "__globals__\n",
      "__gt__\n",
      "__hash__\n",
      "__init__\n",
      "__kwdefaults__\n",
      "__le__\n",
      "__lt__\n",
      "__module__\n",
      "__name__\n",
      "__ne__\n",
      "__new__\n",
      "__qualname__\n",
      "__reduce__\n",
      "__reduce_ex__\n",
      "__repr__\n",
      "__setattr__\n",
      "__sizeof__\n",
      "__str__\n",
      "__subclasshook__\n"
     ]
    }
   ],
   "source": [
    "for i in dir(a):\n",
    "    print(i)"
   ]
  },
  {
   "cell_type": "code",
   "execution_count": null,
   "metadata": {
    "collapsed": true
   },
   "outputs": [],
   "source": []
  }
 ],
 "metadata": {
  "kernelspec": {
   "display_name": "Python 3",
   "language": "python",
   "name": "python3"
  },
  "language_info": {
   "codemirror_mode": {
    "name": "ipython",
    "version": 3
   },
   "file_extension": ".py",
   "mimetype": "text/x-python",
   "name": "python",
   "nbconvert_exporter": "python",
   "pygments_lexer": "ipython3",
   "version": "3.5.3"
  }
 },
 "nbformat": 4,
 "nbformat_minor": 0
}
